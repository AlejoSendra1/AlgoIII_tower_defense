{
  "nbformat": 4,
  "nbformat_minor": 0,
  "metadata": {
    "colab": {
      "provenance": [],
      "authorship_tag": "ABX9TyOJfiVR1V2lDFJ6KutfeZWi",
      "include_colab_link": true
    },
    "kernelspec": {
      "name": "python3",
      "display_name": "Python 3"
    },
    "language_info": {
      "name": "python"
    }
  },
  "cells": [
    {
      "cell_type": "markdown",
      "metadata": {
        "id": "view-in-github",
        "colab_type": "text"
      },
      "source": [
        "<a href=\"https://colab.research.google.com/github/AlejoSendra1/AlgoIII_tower_defense/blob/master/TA047R_TP1_GRUPO7_ENTREGA_EJ1.ipynb\" target=\"_parent\"><img src=\"https://colab.research.google.com/assets/colab-badge.svg\" alt=\"Open In Colab\"/></a>"
      ]
    },
    {
      "cell_type": "markdown",
      "source": [
        "# Ejercicio 1 - Análisis Exploratorio de Datos\n"
      ],
      "metadata": {
        "id": "jQrs7LLMyDqE"
      }
    },
    {
      "cell_type": "code",
      "execution_count": null,
      "metadata": {
        "colab": {
          "base_uri": "https://localhost:8080/"
        },
        "id": "9n-9QFjZwS2K",
        "outputId": "9d0f3382-03da-4f98-ef1a-8fb1b99200db"
      },
      "outputs": [
        {
          "output_type": "stream",
          "name": "stdout",
          "text": [
            "Drive already mounted at /content/drive; to attempt to forcibly remount, call drive.mount(\"/content/drive\", force_remount=True).\n"
          ]
        }
      ],
      "source": [
        "#from google.colab import drive\n",
        "#drive.mount('/content/drive')"
      ]
    },
    {
      "cell_type": "code",
      "source": [
        "import pandas as pd\n",
        "import numpy as np"
      ],
      "metadata": {
        "id": "98bZBPjUyA77"
      },
      "execution_count": null,
      "outputs": []
    },
    {
      "cell_type": "code",
      "source": [
        "file_id = \"1SbVzz-M2yGulaPcK3n_S_Lly1mcu-bL5\"\n",
        "file_url = f\"https://drive.google.com/uc?id={file_id}\"\n",
        "dataset_julio = pd.read_parquet(file_url)\n",
        "\n",
        "file_id = \"1MuPhIAM-odcagCGiiEguTuyctU0Wv_0f\"\n",
        "file_url = f\"https://drive.google.com/uc?id={file_id}\"\n",
        "dataset_agosto = pd.read_parquet(file_url)\n",
        "\n",
        "file_id = \"1d9HQSlCanZMKg_5i6Nd3lWWa5-bobQhn\"\n",
        "file_url = f\"https://drive.google.com/uc?id={file_id}\"\n",
        "dataset_septiembre = pd.read_parquet(file_url)"
      ],
      "metadata": {
        "id": "-oo9RWF-Ofbz"
      },
      "execution_count": 6,
      "outputs": []
    },
    {
      "cell_type": "code",
      "source": [],
      "metadata": {
        "id": "qZXs2pcnLKR7"
      },
      "execution_count": null,
      "outputs": []
    }
  ]
}